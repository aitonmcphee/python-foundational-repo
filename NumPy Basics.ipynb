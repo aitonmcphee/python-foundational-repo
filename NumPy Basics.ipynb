{
 "cells": [
  {
   "cell_type": "code",
   "execution_count": null,
   "metadata": {},
   "outputs": [],
   "source": [
    "                                                       # NumPy"
   ]
  },
  {
   "cell_type": "code",
   "execution_count": 1,
   "metadata": {},
   "outputs": [],
   "source": [
    "# It is short for Numerical Python\n",
    "# NumPy can perform numerical computations at a much faster rate than their Python counterparts and use less memory."
   ]
  },
  {
   "cell_type": "code",
   "execution_count": 153,
   "metadata": {},
   "outputs": [],
   "source": [
    "import numpy as np\n",
    "from numpy.random import rand # Can randomly generate numbers\n",
    "from numpy.random import randint # Can randomly integers (0, 1, 2) - 0 is lower range, 1 is upper range, 2 is amount"
   ]
  },
  {
   "cell_type": "code",
   "execution_count": 3,
   "metadata": {},
   "outputs": [],
   "source": [
    "# NumPy can perform mathematical operations on large datasets using its N-dimensional array object, or ndarray"
   ]
  },
  {
   "cell_type": "code",
   "execution_count": 4,
   "metadata": {
    "scrolled": true
   },
   "outputs": [
    {
     "name": "stdout",
     "output_type": "stream",
     "text": [
      "np.random.randn(x, y) creates an array with random values of dimensions x (rows) by y (columns): \n",
      " [[-0.93345443 -0.97700707 -0.18798689]\n",
      " [-1.72480337 -0.15284045  0.80287539]] \n",
      " This object is of type ndarray\n"
     ]
    }
   ],
   "source": [
    "array1 = np.random.randn(2, 3)\n",
    "print(\"np.random.randn(x, y) creates an array with random values of dimensions x (rows) by y (columns): \\n\", array1,\n",
    "     \"\\n This object is of type ndarray\")"
   ]
  },
  {
   "cell_type": "code",
   "execution_count": 96,
   "metadata": {},
   "outputs": [
    {
     "name": "stdout",
     "output_type": "stream",
     "text": [
      "Mathematical operations can be performed on the array. \n",
      "\n",
      "array1 + array1: \n",
      " [[7.95598417 7.91097254 6.30179032]\n",
      " [3.81185423 8.51777692 5.3429963 ]] \n",
      "\n",
      " array1*5: \n",
      " [[19.88996043 19.77743135 15.75447579]\n",
      " [ 9.52963558 21.2944423  13.35749076]]\n"
     ]
    }
   ],
   "source": [
    "print(\"Mathematical operations can be performed on the array. \\n\"\n",
    "     \"\\narray1 + array1: \\n\", array1 + array1,\n",
    "     \"\\n\\n array1*5: \\n\", array1*5)"
   ]
  },
  {
   "cell_type": "code",
   "execution_count": 6,
   "metadata": {},
   "outputs": [
    {
     "name": "stdout",
     "output_type": "stream",
     "text": [
      "Arrays can be created with the np.array function. \n",
      " array2 = np.array(list(range(5))) produces:\n",
      " [0 1 2 3 4]\n",
      "\n",
      "Nested lists will produce multi-dimensional arrays. \n",
      " array3 = np.array([[1, 2, 3, 4], [5, 6, 7, 8]]) produces: \n",
      " [[1 2 3 4]\n",
      " [5 6 7 8]]\n"
     ]
    }
   ],
   "source": [
    "array2 = np.array(list(range(5)))\n",
    "array3 = np.array([[1, 2, 3, 4], [5, 6, 7, 8]])\n",
    "print(\"Arrays can be created with the np.array function.\",\n",
    "     \"\\n array2 = np.array(list(range(5))) produces:\\n\", array2)\n",
    "print(\"\\nNested lists will produce multi-dimensional arrays.\",\n",
    "     \"\\n array3 = np.array([[1, 2, 3, 4], [5, 6, 7, 8]]) produces: \\n\", array3)"
   ]
  },
  {
   "cell_type": "code",
   "execution_count": 7,
   "metadata": {},
   "outputs": [
    {
     "name": "stdout",
     "output_type": "stream",
     "text": [
      "NumPy gives us the ability to create arrays of certain values.\n",
      " \n",
      " arrayZeros = np.zeroes(2, 4) produces:\n",
      " [[0. 0. 0. 0.]\n",
      " [0. 0. 0. 0.]] \n",
      "\n",
      " arrayOnes = np.ones(3, 5) produces:\n",
      " [[1. 1. 1. 1. 1.]\n",
      " [1. 1. 1. 1. 1.]\n",
      " [1. 1. 1. 1. 1.]] \n",
      "\n",
      " arrayEmpty = np.empty(2, 3, 4) produces:\n",
      " [[[6.23042070e-307 1.86918699e-306 1.69121096e-306 1.78020169e-306]\n",
      "  [1.37960826e-306 8.45602762e-307 1.11261027e-306 1.11261502e-306]\n",
      "  [1.42410839e-306 7.56597770e-307 6.23059726e-307 1.42419530e-306]]\n",
      "\n",
      " [[7.56602523e-307 1.29061821e-306 9.79110588e-307 8.34424766e-308]\n",
      "  [1.33508761e-307 1.33511562e-306 8.90103560e-307 1.42410974e-306]\n",
      "  [1.00132228e-307 1.33511018e-306 1.69119330e-306 8.45610230e-307]]]\n"
     ]
    }
   ],
   "source": [
    "arrayZeroes = np.zeros((2, 4))\n",
    "arrayOnes = np.ones((3, 5))\n",
    "arrayEmpty = np.empty((2, 3, 4))\n",
    "print(\"NumPy gives us the ability to create arrays of certain values.\\n\",\n",
    "     \"\\n arrayZeros = np.zeroes(2, 4) produces:\\n\", arrayZeroes,\n",
    "     \"\\n\\n arrayOnes = np.ones(3, 5) produces:\\n\", arrayOnes,\n",
    "     \"\\n\\n arrayEmpty = np.empty(2, 3, 4) produces:\\n\", arrayEmpty)"
   ]
  },
  {
   "cell_type": "code",
   "execution_count": 8,
   "metadata": {},
   "outputs": [
    {
     "name": "stdout",
     "output_type": "stream",
     "text": [
      "It is possible to change data types with array1.dtype. The dtype of array1 is: float64 \n",
      " [[3.97799209 3.95548627 3.15089516]\n",
      " [1.90592712 4.25888846 2.67149815]]\n",
      "\n",
      "We can change this float data type to an int with array1.dtype('int32'):\n",
      " [[3 3 3]\n",
      " [1 4 2]]\n"
     ]
    }
   ],
   "source": [
    "array1 = 4 + np.random.randn(2, 3)\n",
    "print(\"It is possible to change data types with array1.dtype. The dtype of array1 is:\", array1.dtype, \"\\n\",\n",
    "     array1)\n",
    "print(\"\\nWe can change this float data type to an int with array1.dtype('int32'):\\n\", array1.astype('int32'))"
   ]
  },
  {
   "cell_type": "code",
   "execution_count": 9,
   "metadata": {},
   "outputs": [
    {
     "name": "stdout",
     "output_type": "stream",
     "text": [
      "Arithmetic operations between equal-size arrays such as:\n",
      "+ - * /\n"
     ]
    }
   ],
   "source": [
    "print(\"Arithmetic operations between equal-size arrays such as:\\n+ - * /\")"
   ]
  },
  {
   "cell_type": "code",
   "execution_count": 24,
   "metadata": {},
   "outputs": [
    {
     "name": "stdout",
     "output_type": "stream",
     "text": [
      "Indexing on one-dimensional arrays are relatively simple as they act similarly to Python lists.\n",
      " arr1d = np.arrange(10): [0 1 2 3 4 5 6 7 8 9]\n",
      "\n",
      "Modifying elements at an index will modify the entire array\n",
      " arr1d[5:8] = 50: [ 0  1  2  3  4 50 50 50  8  9]\n",
      "\n",
      "They will even be modified if taken out of the array.\n",
      " arr1d_slice = arr1d[5:8]: [50 50 50]\n",
      "\n",
      "Using [:] will affect all elements in the array.\n",
      " arr1d_slice[:] = 100:\n",
      " arr1d: [  0   1   2   3   4 100 100 100   8   9]\n"
     ]
    }
   ],
   "source": [
    "arr1d = np.arange(10)\n",
    "print(\"Indexing on one-dimensional arrays are relatively simple as they act similarly to Python lists.\\n\",\n",
    "     \"arr1d = np.arrange(10):\", arr1d)\n",
    "arr1d[5:8] = 50\n",
    "print(\"\\nModifying elements at an index will modify the entire array\\n\",\n",
    "     \"arr1d[5:8] = 50:\", arr1d)\n",
    "arr1d_slice = arr1d[5:8]\n",
    "print(\"\\nThey will even be modified if taken out of the array.\\n\",\n",
    "     \"arr1d_slice = arr1d[5:8]:\", arr1d_slice)\n",
    "arr1d_slice[:] = 100\n",
    "print(\"\\nUsing [:] will affect all scalars in the array.\\n\",\n",
    "     \"arr1d_slice[:] = 100:\\n\",\n",
    "      \"arr1d:\", arr1d)"
   ]
  },
  {
   "cell_type": "code",
   "execution_count": 35,
   "metadata": {},
   "outputs": [
    {
     "name": "stdout",
     "output_type": "stream",
     "text": [
      "We have more indexing options on higher dimensional arrays. The elements at an index are no longer individual scalars but are one-dimensional arrays, arr2d[2]: [7 8 9] .\n",
      "\n",
      "To access individual scalars, we must define 2 indices, arr2d[0][2]: 3 .\n"
     ]
    }
   ],
   "source": [
    "arr2d = np.array([[1, 2, 3], [4, 5, 6], [7, 8, 9]])\n",
    "print(\"We have more indexing options on higher dimensional arrays. The elements at an index are no longer individual scalars \"\n",
    "     \"but are one-dimensional arrays, arr2d[2]:\", arr2d[2], \".\"\n",
    "     \"\\n\\nTo access individual scalars, we must define 2 indices, arr2d[0][2]:\", arr2d[0][2], \".\")"
   ]
  },
  {
   "cell_type": "code",
   "execution_count": 48,
   "metadata": {},
   "outputs": [
    {
     "name": "stdout",
     "output_type": "stream",
     "text": [
      "Considering the above 2-dimensional array. We can slice a few different ways.\n",
      " [[1 2 3]\n",
      " [4 5 6]\n",
      " [7 8 9]] \n",
      "\n",
      " [:x, y:] will sort all rows up to that xth point and all columns from the yth one until the end. \n",
      "Eg. [:2, 1:] will give us up to the 2nd row and the 1st column onwards:\n",
      " [[2 3]\n",
      " [5 6]] \n",
      "\n",
      "This is not to be confused with arr2d[:2][1:] which produces a different result: [[4 5 6]]\n"
     ]
    }
   ],
   "source": [
    "print(\"Considering the above 2-dimensional array. We can slice a few different ways.\\n\", arr2d,\n",
    "     \"\\n\\n [:x, y:] will sort all rows up to that xth point and all columns from the yth one until the end.\",\n",
    "     \"\\nEg. [:2, 1:] will give us up to the 2nd row and the 1st column onwards:\\n\", arr2d[:2, 1:],\n",
    "     \"\\n\\nThis is not to be confused with arr2d[:2][1:] which produces a different result:\", arr2d[:2][1:])"
   ]
  },
  {
   "cell_type": "code",
   "execution_count": 87,
   "metadata": {},
   "outputs": [
    {
     "name": "stdout",
     "output_type": "stream",
     "text": [
      "Boolean indexing can be used to compare 2 different arrays. Supporse we had a list of names and wanted corresponding values in another column.\n",
      " \n",
      "names:\n",
      " ['Bob' 'Joe' 'Will' 'Bob' 'Will' 'Joe' 'Joe'] \n",
      " \n",
      "data:\n",
      " [[ 0.06738659  0.86237455  0.85396749 -1.48345978]\n",
      " [ 1.12964623  0.39990884  0.68696044  1.52373311]\n",
      " [-1.04674289  0.83160046  1.4589859  -0.63110633]\n",
      " [ 1.52770692  0.74114385  0.03771358  1.96249877]\n",
      " [-1.65890588 -0.18166041 -1.16272281 -0.02118995]\n",
      " [ 1.89535009 -0.39472929 -0.16359567  0.30725288]\n",
      " [ 1.47573639  1.00417534 -0.03352304  0.96663766]]\n",
      "\n",
      "If wanted only rows that corresponded to 'Bob', we would write the following: data[names == 'Bob']\n",
      " [[ 0.06738659  0.86237455  0.85396749 -1.48345978]\n",
      " [ 1.52770692  0.74114385  0.03771358  1.96249877]]\n",
      "\n",
      "Further indexing can be done, data[names == 'Bob', 2:] produces:\n",
      " [[ 0.85396749 -1.48345978]\n",
      " [ 0.03771358  1.96249877]]\n"
     ]
    }
   ],
   "source": [
    "names = np.array(['Bob', 'Joe', 'Will', 'Bob', 'Will', 'Joe', 'Joe'])\n",
    "data = np.random.randn(7, 4)\n",
    "print(\"Boolean indexing can be used to compare 2 different arrays. Supporse we had a list of names and wanted \"\n",
    "     \"corresponding values in another column.\\n\",\n",
    "     \"\\nnames:\\n\", names, \"\\n\", \"\\ndata:\\n\", data)\n",
    "print(\"\\nIf wanted only rows that corresponded to 'Bob', we would write the following: data[names == 'Bob']\\n\", \n",
    "      data[names == 'Bob'])\n",
    "print(\"\\nFurther indexing can be done, data[names == 'Bob', 2:] produces:\\n\", data[names == 'Bob', 2:])"
   ]
  },
  {
   "cell_type": "code",
   "execution_count": 94,
   "metadata": {},
   "outputs": [
    {
     "name": "stdout",
     "output_type": "stream",
     "text": [
      "We can define conditions as variables:\n",
      " cond1 = names =='Bob'\n",
      "\n",
      "data[~cond1]:\n",
      " [[1.12964623 0.39990884 0.68696044 1.52373311]\n",
      " [0.         0.83160046 1.4589859  0.        ]\n",
      " [0.         0.         0.         0.        ]\n",
      " [1.89535009 0.         0.         0.30725288]\n",
      " [1.47573639 1.00417534 0.         0.96663766]]\n",
      "\n",
      "Data can also be redifined in this way. data[data < 0] = 0 will replace all negative numbers with 0:\n",
      " [[0.06738659 0.86237455 0.85396749 0.        ]\n",
      " [1.12964623 0.39990884 0.68696044 1.52373311]\n",
      " [0.         0.83160046 1.4589859  0.        ]\n",
      " [1.52770692 0.74114385 0.03771358 1.96249877]\n",
      " [0.         0.         0.         0.        ]\n",
      " [1.89535009 0.         0.         0.30725288]\n",
      " [1.47573639 1.00417534 0.         0.96663766]]\n"
     ]
    }
   ],
   "source": [
    "cond1 = names == 'Bob'\n",
    "print(\"We can define conditions as variables:\\n cond1 = names =='Bob'\")\n",
    "print(\"\\ndata[~cond1]:\\n\", data[~cond1])\n",
    "data[data < 0] = 0\n",
    "print(\"\\nData can also be redifined in this way. data[data < 0] = 0 will replace all negative numbers with 0:\\n\", data)"
   ]
  },
  {
   "cell_type": "code",
   "execution_count": 181,
   "metadata": {},
   "outputs": [
    {
     "name": "stdout",
     "output_type": "stream",
     "text": [
      "Our array of random numbers, array4 = np.random.randn(5, 4) is:\n",
      " [[-10.93328614  -3.66666856  11.58769945  26.41345713]\n",
      " [  3.95651555   9.31825118   9.0818498    1.82237546]\n",
      " [  7.32997464 -28.38561913  10.64849598  15.68203515]\n",
      " [ -1.46865548   7.06077269  20.98411733  13.56895439]\n",
      " [  4.49428538  16.89529355   1.73567272  -4.31390833]]\n",
      "\n",
      "They are multiple ways to get the mean, sum or std etc.\n",
      " array4.mean(): 5.590580638169337 \n",
      "np.mean(array4) 5.590580638169337\n"
     ]
    }
   ],
   "source": [
    "array4 = np.random.randn(5, 4) * 10\n",
    "print(\"Our array of random numbers, array4 = np.random.randn(5, 4) is:\\n\", array4)\n",
    "print(\"\\nThey are multiple ways to get the mean, sum or std etc.\\n\", \n",
    "      \"array4.mean():\", array4.mean(), \n",
    "      \"\\nnp.mean(array4)\", np.mean(array4))"
   ]
  },
  {
   "cell_type": "code",
   "execution_count": 182,
   "metadata": {},
   "outputs": [
    {
     "name": "stdout",
     "output_type": "stream",
     "text": [
      "By using the previous example of an array of values, such as names:\n",
      " ['Bob' 'Angela' 'James' 'Jill' 'Ignus'] \n",
      "\n",
      "We can execute these functions with: array4[names2 == 'James'].mean(): 1.3187216594626996\n",
      "\n",
      "array4.mean(axis = 0) gives us the averages of all the columns: [ 0.67576679  0.24440595 10.80756706 10.63458276]\n",
      "array4.mean(axis = 1) gives us the averages of all the rows: [ 5.85030047  6.044748    1.31872166 10.03629723  4.70283583]\n"
     ]
    }
   ],
   "source": [
    "names2 = np.array(['Bob', 'Angela', 'James', 'Jill', 'Ignus'])\n",
    "print(\"By using the previous example of an array of values, such as names:\\n\", names2,\n",
    "     \"\\n\\nWe can execute these functions with: array4[names2 == 'James'].mean():\", array4[names2 == 'James'].mean())\n",
    "print(\"\\narray4.mean(axis = 0) gives us the averages of all the columns:\", array4.mean(axis = 0))\n",
    "print(\"array4.mean(axis = 1) gives us the averages of all the rows:\", array4.mean(axis = 1))"
   ]
  },
  {
   "cell_type": "code",
   "execution_count": null,
   "metadata": {},
   "outputs": [],
   "source": []
  }
 ],
 "metadata": {
  "kernelspec": {
   "display_name": "Python 3",
   "language": "python",
   "name": "python3"
  },
  "language_info": {
   "codemirror_mode": {
    "name": "ipython",
    "version": 3
   },
   "file_extension": ".py",
   "mimetype": "text/x-python",
   "name": "python",
   "nbconvert_exporter": "python",
   "pygments_lexer": "ipython3",
   "version": "3.8.5"
  }
 },
 "nbformat": 4,
 "nbformat_minor": 4
}
