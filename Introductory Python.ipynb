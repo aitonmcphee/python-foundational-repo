{
 "cells": [
  {
   "cell_type": "code",
   "execution_count": 31,
   "metadata": {},
   "outputs": [],
   "source": [
    "# Shortcuts:\n",
    "# For the full list: control + shift + p\n",
    "# dd: Delete currently selected cell\n",
    "# a: Insert cell above\n",
    "# b: Insert cell below\n",
    "# z: Undo last deleted cell\n",
    "# Esc + Ctrl A -> Shift-Enter: Will run all cells\n",
    "\n",
    "# Installing packages from cmd:\n",
    "# python -m pip install <package>"
   ]
  },
  {
   "cell_type": "code",
   "execution_count": 32,
   "metadata": {},
   "outputs": [],
   "source": [
    "import pandas as pd\n",
    "import matplotlib as plt"
   ]
  },
  {
   "cell_type": "code",
   "execution_count": 33,
   "metadata": {},
   "outputs": [],
   "source": [
    "                                    # In-built Python Data Structures, Functions & Files #"
   ]
  },
  {
   "cell_type": "code",
   "execution_count": 34,
   "metadata": {},
   "outputs": [
    {
     "name": "stdout",
     "output_type": "stream",
     "text": [
      "Introspection: Putting a ? before or after a variable will display information about the object\n",
      "It can also be used for a function\n"
     ]
    }
   ],
   "source": [
    "a = \"apple\"\n",
    "print(\"Introspection: Putting a ? before or after a variable will display information about the object\", )\n",
    "?a\n",
    "print(\"It can also be used for a function\")\n",
    "?print"
   ]
  },
  {
   "cell_type": "code",
   "execution_count": 35,
   "metadata": {},
   "outputs": [
    {
     "name": "stdout",
     "output_type": "stream",
     "text": [
      "Tuple example: (4, 5, 6)\n",
      "Nested tuple example: (('apple', 'orange'), (1, 2, 3))\n"
     ]
    }
   ],
   "source": [
    "# Tuples: Fixed-length, immutable sequences of objects separated by commas.\n",
    "tup = 4, 5, 6\n",
    "print(\"Tuple example:\", tup)\n",
    "nested_tup = (('apple', 'orange'), (1, 2, 3))\n",
    "print(\"Nested tuple example:\", nested_tup)"
   ]
  },
  {
   "cell_type": "code",
   "execution_count": 36,
   "metadata": {},
   "outputs": [
    {
     "name": "stdout",
     "output_type": "stream",
     "text": [
      "String variable: word\n",
      "After invoking tuple(): ('w', 'o', 'r', 'd')\n"
     ]
    }
   ],
   "source": [
    "# Anything can be converted into a tuple using the tuple() function\n",
    "word = 'word'\n",
    "print(\"String variable:\", word)\n",
    "print(\"After invoking tuple():\", tuple(word))"
   ]
  },
  {
   "cell_type": "code",
   "execution_count": 37,
   "metadata": {},
   "outputs": [
    {
     "name": "stdout",
     "output_type": "stream",
     "text": [
      "Original tuple: ([1, 2, 3], 'PS4')\n",
      "Tuple with list object modified: ([1, 2, 3, 4], 'PS4')\n"
     ]
    }
   ],
   "source": [
    "# Elements are accessed with [] and once tuples are created, is it not possible to modify which object is in which slot\n",
    "# However, if an object inside the tuple is mutalble (eg. a list), it can be modified in-place\n",
    "tup = ([1, 2, 3], 'PS4')\n",
    "print(\"Original tuple:\", tup)\n",
    "tup[0].append(4)\n",
    "print(\"Tuple with list object modified:\", tup)"
   ]
  },
  {
   "cell_type": "code",
   "execution_count": 38,
   "metadata": {},
   "outputs": [
    {
     "name": "stdout",
     "output_type": "stream",
     "text": [
      "The 3rd value in: (1, 2, 3) , will be the value of c: 3\n",
      "It even works with nested tuples: 10 from (10, 11)\n",
      "\n",
      "\n",
      "A common usage is to iterate over sequences of tuples/lists:\n",
      "x=1, y=2, z=3\n",
      "x=4, y=5, z=6\n",
      "x=7, y=8, z=9\n"
     ]
    }
   ],
   "source": [
    "# You can assign to a tuple-like expression of variables and Python will unpack the value on the RHS of the equals sign\n",
    "tup = (1, 2, 3)\n",
    "a, b, c = tup\n",
    "print(\"The 3rd value in:\", tup, \", will be the value of c:\", c)\n",
    "nested_tup = (1, 2, 3, (10, 11))\n",
    "a, b, c, (d, e) = nested_tup\n",
    "print(\"It even works with nested tuples:\", d, \"from\", nested_tup[3])\n",
    "\n",
    "print(\"\\n\")\n",
    "\n",
    "print(\"A common usage is to iterate over sequences of tuples/lists:\")\n",
    "seq = [(1, 2, 3), (4, 5, 6), (7, 8, 9)]\n",
    "for x, y, z in seq:\n",
    "    print('x={0}, y={1}, z={2}'.format(x, y, z))"
   ]
  },
  {
   "cell_type": "code",
   "execution_count": 39,
   "metadata": {},
   "outputs": [
    {
     "name": "stdout",
     "output_type": "stream",
     "text": [
      "Rembember that the format in Python is: object.method(parameter)\n"
     ]
    }
   ],
   "source": [
    "# There are a number of methods associated with tuple objects.\n",
    "print(\"Rembember that the format in Python is: object.method(parameter)\")"
   ]
  },
  {
   "cell_type": "code",
   "execution_count": 40,
   "metadata": {},
   "outputs": [
    {
     "name": "stdout",
     "output_type": "stream",
     "text": [
      "The count() parameter returns the occurences of a value.\n",
      "In: (1, 2, 2, 2, 3, 4) , tup.count(2) =  3\n"
     ]
    }
   ],
   "source": [
    "# The count() method counts the occurences of a value appearing in a tuple\n",
    "tup = (1, 2, 2, 2, 3, 4)\n",
    "print(\"The count() parameter returns the occurences of a value.\")\n",
    "print(\"In:\", tup, \", tup.count(2) = \", tup.count(2))"
   ]
  },
  {
   "cell_type": "code",
   "execution_count": 41,
   "metadata": {},
   "outputs": [
    {
     "name": "stdout",
     "output_type": "stream",
     "text": [
      "List created with []: ['TV', 'couch', 'chair']\n",
      "List created with list(): ['a', 'b', 'c']\n",
      "Note that the list() type function only accepts 1 parameter!\n"
     ]
    }
   ],
   "source": [
    "# Lists are variable-length are their content can be modified in-place. Defined with [] or by using list()\n",
    "list1 = [\"TV\", \"couch\", \"chair\"]\n",
    "tup = 'a', 'b', 'c'\n",
    "print(\"List created with []:\", list1)\n",
    "list2 = list(tup)\n",
    "print(\"List created with list():\", list2)\n",
    "print(\"Note that the list() type function only accepts 1 parameter!\")"
   ]
  },
  {
   "cell_type": "code",
   "execution_count": 42,
   "metadata": {},
   "outputs": [
    {
     "name": "stdout",
     "output_type": "stream",
     "text": [
      "[1, 1, 2, 3, 4, 5] with list3.append(6) will change to:\n",
      "[1, 1, 2, 3, 4, 5, 6]\n",
      "\n",
      "\n",
      "[1, 1, 2, 3, 4, 5, 6] with list3.insert(1, 1.5) will have 1.5 inserted at the 1st index:\n",
      "[1, 1.5, 1, 2, 3, 4, 5, 6]\n",
      "\n",
      "\n",
      "The pop() method removes and returns an element at a given index, list3.pop(1) will return the 2nd element: 1.5\n",
      "[1, 1, 2, 3, 4, 5, 6]\n",
      "The popped value can also be stored in a variable, popVal = list3.pop(1) will create popVal with value: 1.5\n",
      "\n",
      "\n",
      "The remove() method will remove the first instance of its parameter from the list. So list3.remove(1) will return:\n",
      "[1, 2, 3, 4, 5, 6]\n"
     ]
    }
   ],
   "source": [
    "# Lists can be modified\n",
    "list3 = [1, 1, 2, 3, 4, 5,]\n",
    "print(list3, \"with list3.append(6) will change to:\")\n",
    "list3.append(6)\n",
    "print(list3)\n",
    "\n",
    "print(\"\\n\")\n",
    "\n",
    "print(list3, \"with list3.insert(1, 1.5) will have 1.5 inserted at the 1st index:\")\n",
    "list3.insert(1, 1.5)\n",
    "print(list3)\n",
    "\n",
    "print(\"\\n\")\n",
    "\n",
    "print(\"The pop() method removes and returns an element at a given index, list3.pop(1) will return the 2nd element: 1.5\")\n",
    "popVal = list3.pop(1)\n",
    "print(list3)\n",
    "print(\"The popped value can also be stored in a variable, popVal = list3.pop(1) will create popVal with value:\", popVal)\n",
    "\n",
    "print(\"\\n\")\n",
    "print(\"The remove() method will remove the first instance of its parameter from the list. So list3.remove(1) will return:\")\n",
    "list3.remove(1)\n",
    "print(list3)"
   ]
  },
  {
   "cell_type": "code",
   "execution_count": 43,
   "metadata": {},
   "outputs": [
    {
     "name": "stdout",
     "output_type": "stream",
     "text": [
      "1 in seq will return a boolean\n"
     ]
    },
    {
     "data": {
      "text/plain": [
       "True"
      ]
     },
     "execution_count": 43,
     "metadata": {},
     "output_type": "execute_result"
    }
   ],
   "source": [
    "# You can also check if a value is in a list by using the keyword 'in'\n",
    "seq = range(0, 10)\n",
    "print(\"1 in seq will return a boolean\")\n",
    "1 in seq"
   ]
  },
  {
   "cell_type": "code",
   "execution_count": 44,
   "metadata": {},
   "outputs": [
    {
     "name": "stdout",
     "output_type": "stream",
     "text": [
      "An example of a dict might be: {'A': 1, 'B': ['apples', 'oranges']}\n",
      "The following code can be used to add to a dict: dict['C'] = 'Word'\n",
      "The dict is now: {'A': 1, 'B': ['apples', 'oranges'], 'C': 'Word'}\n"
     ]
    }
   ],
   "source": [
    "# dicts are similar to hash maps or associative arrays. It is a flexibly sized collection of key-value pairs.\n",
    "# They can be created by using curly brackets '{}' and colons to separate keys and values.\n",
    "dict1 = {'A': 1, 'B': ['apples', 'oranges']}\n",
    "print(\"An example of a dict might be:\", dict1)\n",
    "print(\"The following code can be used to add to a dict: dict['C'] = 'Word'\")\n",
    "dict1['C'] = \"Word\"\n",
    "print(\"The dict is now:\", dict1)"
   ]
  },
  {
   "cell_type": "code",
   "execution_count": 45,
   "metadata": {},
   "outputs": [
    {
     "name": "stdout",
     "output_type": "stream",
     "text": [
      "For example, dict1['B'] will search for the key with value 'B': ['apples', 'oranges']\n",
      "To delete a value, use the del keyword.\n",
      "del dict1['C'] will remove the key-value pair of 'C'.\n",
      "The dict is now: {'A': 1, 'B': ['apples', 'oranges']}\n"
     ]
    }
   ],
   "source": [
    "# dicts are indexed by key, not location (unordered container)\n",
    "print(\"For example, dict1['B'] will search for the key with value 'B':\", dict1['B'])\n",
    "print(\"To delete a value, use the del keyword.\")\n",
    "print(\"del dict1['C'] will remove the key-value pair of 'C'.\")\n",
    "del dict1['C']\n",
    "print(\"The dict is now:\", dict1)"
   ]
  },
  {
   "cell_type": "code",
   "execution_count": 46,
   "metadata": {},
   "outputs": [
    {
     "name": "stdout",
     "output_type": "stream",
     "text": [
      "dict1.keys() will produce: ['A', 'B']\n",
      "dict1.values() will produce: [1, ['apples', 'oranges']]\n"
     ]
    }
   ],
   "source": [
    "# Is it possible to separate the key and value pairs in the dict\n",
    "print(\"dict1.keys() will produce:\", list(dict1.keys()))\n",
    "print(\"dict1.values() will produce:\", list(dict1.values()))"
   ]
  },
  {
   "cell_type": "code",
   "execution_count": 47,
   "metadata": {},
   "outputs": [
    {
     "name": "stdout",
     "output_type": "stream",
     "text": [
      "dict1.update({'D': 72, 'E': '5'}) will update the dict1: {'A': 1, 'B': ['apples', 'oranges'], 'D': 72, 'E': '5'}\n"
     ]
    }
   ],
   "source": [
    "# To update dicts, use the update() method\n",
    "dict1.update({'D': 72, 'E': '5'})\n",
    "print(\"dict1.update({'D': 72, 'E': '5'}) will update the dict1:\", dict1)"
   ]
  },
  {
   "cell_type": "code",
   "execution_count": 48,
   "metadata": {},
   "outputs": [
    {
     "name": "stdout",
     "output_type": "stream",
     "text": [
      "The values will appear from small-big with only unique values being added to the set.\n",
      "{1, 2, 3, 5}\n"
     ]
    }
   ],
   "source": [
    "# sets are unordered collections of unique elements, similar to dicts but no values, only keys.\n",
    "# They are defined with '{}' and are comma-separated.\n",
    "print(\"The values will appear from small-big with only unique values being added to the set.\")\n",
    "print(set([1, 2, 2, 3, 5]))"
   ]
  },
  {
   "cell_type": "code",
   "execution_count": 49,
   "metadata": {},
   "outputs": [
    {
     "name": "stdout",
     "output_type": "stream",
     "text": [
      "Look at page 84 of the 'Python for Data Analysis.pdf' to find out more\n"
     ]
    }
   ],
   "source": [
    "# The mathematical operators of union and intersection can be used for sets\n",
    "print(\"Look at page 84 of the 'Python for Data Analysis.pdf' to find out more\")"
   ]
  },
  {
   "cell_type": "code",
   "execution_count": 50,
   "metadata": {},
   "outputs": [
    {
     "name": "stdout",
     "output_type": "stream",
     "text": [
      "They are of the form: [expr for val in collection if condition]\n",
      "If we wanted to filter a list of strings to convert all values that were bigger than 2 characters to upper-case: \n",
      " capitalList = [x.upper() for x in strings if len(x) > 2]\n",
      "capitalList: ['BAT', 'CAR', 'DOVE', 'PYTHON']\n"
     ]
    }
   ],
   "source": [
    "# List comprehensions allow to create a new list by filtering elements of a collection and transforming them.\n",
    "print(\"They are of the form: [expr for val in collection if condition]\")\n",
    "strings = ['a', 'as', 'bat', 'car', 'dove', 'python']\n",
    "print(\"If we wanted to filter a list of strings to convert all values that were bigger than 2 characters to upper-case:\", \"\\n\",\n",
    "     \"capitalList = [x.upper() for x in strings if len(x) > 2]\")\n",
    "capitalList = [x.upper() for x in strings if len(x) > 2]\n",
    "print(\"capitalList:\", capitalList)"
   ]
  },
  {
   "cell_type": "code",
   "execution_count": 51,
   "metadata": {},
   "outputs": [
    {
     "name": "stdout",
     "output_type": "stream",
     "text": [
      "set_comp = {expr for value in collection if condition}\n"
     ]
    }
   ],
   "source": [
    "# Set comprehensions are the same but just with curly brackets\n",
    "print(\"set_comp = {expr for value in collection if condition}\")"
   ]
  },
  {
   "cell_type": "code",
   "execution_count": 52,
   "metadata": {},
   "outputs": [
    {
     "data": {
      "text/plain": [
       "(27, 3.0)"
      ]
     },
     "execution_count": 52,
     "metadata": {},
     "output_type": "execute_result"
    }
   ],
   "source": [
    "# Functions are an important part of coding. \n",
    "# If you see yourself repeating the same bit of code over and over, it is worth writing a function\n",
    "# Python functions can also have multiple return statements.\n",
    "def multiplyAndDivideByThree(x):\n",
    "    a = x*3\n",
    "    b = x/3\n",
    "    return a, b\n",
    "\n",
    "multiplyAndDivideByThree(9)"
   ]
  },
  {
   "cell_type": "code",
   "execution_count": 53,
   "metadata": {},
   "outputs": [],
   "source": [
    "# Anonymous (lambda) functions consist of a single statement, the return of which is the return value. \n",
    "# They can be useful in data transformation functions which take functions as arguments.\n",
    "def add_numbers(x, y):\n",
    "    return x + y\n",
    "\n",
    "add_five = lambda y: add_numbers(5, y)"
   ]
  },
  {
   "cell_type": "code",
   "execution_count": 54,
   "metadata": {},
   "outputs": [
    {
     "name": "stdout",
     "output_type": "stream",
     "text": [
      "Generating squares from 1 to 100\n",
      "1 4 9 16 25 36 49 64 81 100 "
     ]
    }
   ],
   "source": [
    "# Generators are a way of constructing new iterable objects. Normal functions execute and return a single result at a time.\n",
    "# Generators return a sequence of multiple results lazily. They use the 'yield' keyword\n",
    "def squares(n=10):\n",
    "    print('Generating squares from 1 to {0}'.format(n ** 2))\n",
    "    for i in range(1, n + 1):\n",
    "        yield i ** 2\n",
    "        \n",
    "gen = squares()        \n",
    "for x in gen:\n",
    "    print(x, end=' ')"
   ]
  },
  {
   "cell_type": "code",
   "execution_count": null,
   "metadata": {},
   "outputs": [],
   "source": []
  },
  {
   "cell_type": "code",
   "execution_count": null,
   "metadata": {},
   "outputs": [],
   "source": []
  }
 ],
 "metadata": {
  "kernelspec": {
   "display_name": "Python 3",
   "language": "python",
   "name": "python3"
  },
  "language_info": {
   "codemirror_mode": {
    "name": "ipython",
    "version": 3
   },
   "file_extension": ".py",
   "mimetype": "text/x-python",
   "name": "python",
   "nbconvert_exporter": "python",
   "pygments_lexer": "ipython3",
   "version": "3.8.5"
  }
 },
 "nbformat": 4,
 "nbformat_minor": 4
}
