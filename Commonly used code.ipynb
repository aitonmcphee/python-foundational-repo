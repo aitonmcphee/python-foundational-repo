{
 "cells": [
  {
   "cell_type": "code",
   "execution_count": null,
   "metadata": {},
   "outputs": [],
   "source": [
    "                                                 #Commonly used code"
   ]
  },
  {
   "cell_type": "code",
   "execution_count": null,
   "metadata": {},
   "outputs": [],
   "source": [
    "# This script contains methods, functions and generally useful code that will be commonly used"
   ]
  },
  {
   "cell_type": "code",
   "execution_count": 30,
   "metadata": {},
   "outputs": [],
   "source": [
    "import numpy as np\n",
    "import pandas as pd"
   ]
  },
  {
   "cell_type": "code",
   "execution_count": 23,
   "metadata": {},
   "outputs": [
    {
     "name": "stdout",
     "output_type": "stream",
     "text": [
      "\"object.shape\" will return the rows and columns of an object: (3, 4)\n",
      "\"object.ndim\" will return the number of dimensions of an object: 2\n",
      "\"type(object)\" will return the object type: <class 'numpy.ndarray'>\n"
     ]
    }
   ],
   "source": [
    "data1 = np.array([[1, 2, 3, 4], [5, 6, 7, 8], [9, 10, 11, 12]])\n",
    "print(\"\\\"object.shape\\\" will return the rows and columns of an object:\", data1.shape)\n",
    "print(\"\\\"object.ndim\\\" will return the number of dimensions of an object:\", data1.ndim)\n",
    "print(\"\\\"type(object)\\\" will return the object type:\", type(data1))"
   ]
  },
  {
   "cell_type": "code",
   "execution_count": 36,
   "metadata": {},
   "outputs": [
    {
     "name": "stdout",
     "output_type": "stream",
     "text": [
      "\"DataFrame['one']\" will return the column with column name 'one':\n",
      " Ohio         0\n",
      "Colorado     4\n",
      "Utah         8\n",
      "New York    12\n",
      "Name: one, dtype: int32\n",
      "\n",
      "\"DataFrame[:2]\" will return from the start to the 2nd row:\n",
      "           one  two  three  four\n",
      "Ohio        0    1      2     3\n",
      "Colorado    4    5      6     7\n",
      "\n",
      "\"DataFrame.iloc[:2]\" will also do the same:\n",
      "           one  two  three  four\n",
      "Ohio        0    1      2     3\n",
      "Colorado    4    5      6     7\n",
      "\n",
      "\"DataFrame.index.is_unique\" will return a boolean whether its labels are unique:\n",
      " True\n"
     ]
    }
   ],
   "source": [
    "data2 = pd.DataFrame(np.arange(16).reshape((4, 4)),\n",
    "                     index=['Ohio', 'Colorado', 'Utah', 'New York'],\n",
    "                     columns=['one', 'two', 'three', 'four'])\n",
    "print(\"\\\"DataFrame['one']\\\" will return the column with column name 'one':\\n\", data2['one'])\n",
    "print(\"\\n\\\"DataFrame[:2]\\\" will return from the start to the 2nd row:\\n\", data2[:2])\n",
    "print(\"\\n\\\"DataFrame.iloc[:2]\\\" will also do the same:\\n\", data2.iloc[:2])\n",
    "print(\"\\n\\\"DataFrame.index.is_unique\\\" will return a boolean whether its labels are unique:\\n\", data2.index.is_unique)"
   ]
  },
  {
   "cell_type": "code",
   "execution_count": 5,
   "metadata": {},
   "outputs": [
    {
     "name": "stdout",
     "output_type": "stream",
     "text": [
      "\n",
      "DataFrame.head() will return the first 5 rows:\n",
      "          day  count  raining\n",
      "0     Monday     15     True\n",
      "1    Tuesday     49    False\n",
      "2     Monday     50    False\n",
      "3  Wednesday     17     True\n",
      "4     Sunday     40     True\n",
      "\n",
      "DataFrame.columns will give us the column names:\n",
      " Index(['day', 'count', 'raining'], dtype='object')\n"
     ]
    }
   ],
   "source": [
    "data = {'day': ['Monday', 'Tuesday', 'Monday', 'Wednesday', 'Sunday', 'Monday'],\n",
    "         'count': [15, 49, 50, 17, 40, 70],\n",
    "         'raining': [True, False, False, True, True, False]}\n",
    "df = pd.DataFrame(data)\n",
    "print(\"\\nDataFrame.head() will return the first 5 rows:\\n\", \n",
    "     df.head())\n",
    "print(\"\\nDataFrame.columns will give us the column names:\\n\",\n",
    "     df.columns)"
   ]
  },
  {
   "cell_type": "code",
   "execution_count": null,
   "metadata": {},
   "outputs": [],
   "source": []
  }
 ],
 "metadata": {
  "kernelspec": {
   "display_name": "Python 3",
   "language": "python",
   "name": "python3"
  },
  "language_info": {
   "codemirror_mode": {
    "name": "ipython",
    "version": 3
   },
   "file_extension": ".py",
   "mimetype": "text/x-python",
   "name": "python",
   "nbconvert_exporter": "python",
   "pygments_lexer": "ipython3",
   "version": "3.8.5"
  }
 },
 "nbformat": 4,
 "nbformat_minor": 4
}
