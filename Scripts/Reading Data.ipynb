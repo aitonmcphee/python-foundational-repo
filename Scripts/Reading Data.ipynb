{
 "cells": [
  {
   "cell_type": "code",
   "execution_count": null,
   "metadata": {},
   "outputs": [],
   "source": [
    "                                                     # Reading Data"
   ]
  },
  {
   "cell_type": "code",
   "execution_count": 6,
   "metadata": {},
   "outputs": [],
   "source": [
    "import numpy as np\n",
    "import pandas as pd\n",
    "import csv"
   ]
  },
  {
   "cell_type": "code",
   "execution_count": 9,
   "metadata": {},
   "outputs": [],
   "source": [
    "import csv\n",
    "with open('../Datasets/smallTextbookExample.csv', 'w', newline='') as file:\n",
    "    writer = csv.writer(file)\n",
    "    writer.writerow([\"a\", \"b\", \"c\", \"d\", \"message\"])\n",
    "    writer.writerow([1, 2, 3, 4, \"hello\"])\n",
    "    writer.writerow([5, 6, 7, 8, \"world\"])\n",
    "    writer.writerow([9, 10 , 11, 12, \"foo\"])"
   ]
  },
  {
   "cell_type": "code",
   "execution_count": 10,
   "metadata": {},
   "outputs": [
    {
     "name": "stdout",
     "output_type": "stream",
     "text": [
      "To read in a file, we can use pandas. Eg. df = pd.read_csv('directory/file.csv').\n",
      "\n",
      "For our smallTextbookExample.csv example, df = pd.read_csv('../Datasets/smallTextbookExample.csv'):\n",
      "    a   b   c   d message\n",
      "0  1   2   3   4   hello\n",
      "1  5   6   7   8   world\n",
      "2  9  10  11  12     foo\n"
     ]
    }
   ],
   "source": [
    "print(\"To read in a file, we can use pandas. Eg. df = pd.read_csv('directory/file.csv').\")\n",
    "df = pd.read_csv('../Datasets/smallTextbookExample.csv')\n",
    "print(\"\\nFor our smallTextbookExample.csv example, df = pd.read_csv('../Datasets/smallTextbookExample.csv'):\\n\", df)"
   ]
  },
  {
   "cell_type": "code",
   "execution_count": 13,
   "metadata": {},
   "outputs": [
    {
     "name": "stdout",
     "output_type": "stream",
     "text": [
      "If a file does not have column names (header), we can specify with df = pd.read.csv(..., header = None).\n",
      "\n",
      "Alternatively, we can define the header with df = pd.read_csv(..., names = [...]).\n",
      "\n",
      "We can also skip rows if we want to, df = pd.read_csv(..., skiprows = [...])\n"
     ]
    }
   ],
   "source": [
    "print(\"If a file does not have column names (header), we can specify with df = pd.read.csv(..., header = None).\")\n",
    "print(\"\\nAlternatively, we can define the header with df = pd.read_csv(..., names = [...]).\")\n",
    "print(\"\\nWe can also skip rows if we want to, df = pd.read_csv(..., skiprows = [...])\")\n",
    "print(\"\\nWe can also skip rows if we want to, df = pd.read_csv(..., skiprows = [...])\")"
   ]
  },
  {
   "cell_type": "code",
   "execution_count": 14,
   "metadata": {},
   "outputs": [
    {
     "name": "stdout",
     "output_type": "stream",
     "text": [
      "There are a lot of different variations listed in Chapter 6 of the .pdf. Not going to list them all here.\n"
     ]
    }
   ],
   "source": [
    "print(\"There are a lot of different variations listed in Chapter 6 of the .pdf. Not going to list them all here.\")"
   ]
  },
  {
   "cell_type": "code",
   "execution_count": null,
   "metadata": {},
   "outputs": [],
   "source": []
  }
 ],
 "metadata": {
  "kernelspec": {
   "display_name": "Python 3",
   "language": "python",
   "name": "python3"
  },
  "language_info": {
   "codemirror_mode": {
    "name": "ipython",
    "version": 3
   },
   "file_extension": ".py",
   "mimetype": "text/x-python",
   "name": "python",
   "nbconvert_exporter": "python",
   "pygments_lexer": "ipython3",
   "version": "3.8.5"
  }
 },
 "nbformat": 4,
 "nbformat_minor": 4
}
