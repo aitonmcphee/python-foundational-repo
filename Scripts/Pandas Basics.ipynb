{
 "cells": [
  {
   "cell_type": "code",
   "execution_count": 1,
   "metadata": {},
   "outputs": [],
   "source": [
    "                                                        # pandas"
   ]
  },
  {
   "cell_type": "code",
   "execution_count": 2,
   "metadata": {},
   "outputs": [],
   "source": [
    "# It contains data structures and data manipulation tools designed for data cleaning and analysis."
   ]
  },
  {
   "cell_type": "code",
   "execution_count": 3,
   "metadata": {},
   "outputs": [],
   "source": [
    "import numpy as np\n",
    "import pandas as pd\n",
    "from pandas import Series, DataFrame"
   ]
  },
  {
   "cell_type": "code",
   "execution_count": 4,
   "metadata": {
    "scrolled": true
   },
   "outputs": [
    {
     "name": "stdout",
     "output_type": "stream",
     "text": [
      "Series and DataFrame are the 2 main data structures used in pandas.\n",
      "\n",
      "In a series, the index (left column) will be listed with the value (right column):\n",
      " 0    4\n",
      "1    7\n",
      "2   -5\n",
      "3    3\n",
      "dtype: int64\n",
      "\n",
      "A dataframe represents a more rectangular table of data:\n",
      "     state  year  pop\n",
      "0    Ohio  2000  1.5\n",
      "1    Ohio  2001  1.7\n",
      "2    Ohio  2002  3.6\n",
      "3  Nevada  2001  2.4\n",
      "4  Nevada  2002  2.9\n",
      "5  Nevada  2003  3.2\n"
     ]
    }
   ],
   "source": [
    "print(\"Series and DataFrame are the 2 main data structures used in pandas.\")\n",
    "series1 = pd.Series([4, 7, -5, 3])\n",
    "print(\"\\nIn a series, the index (left column) will be listed with the value (right column):\\n\", series1)\n",
    "data1 = {'state': ['Ohio', 'Ohio', 'Ohio', 'Nevada', 'Nevada', 'Nevada'],\n",
    "        'year': [2000, 2001, 2002, 2001, 2002, 2003],\n",
    "        'pop': [1.5, 1.7, 3.6, 2.4, 2.9, 3.2]}\n",
    "df1 = pd.DataFrame(data1)\n",
    "print(\"\\nA dataframe represents a more rectangular table of data:\\n\", df1)"
   ]
  },
  {
   "cell_type": "code",
   "execution_count": 70,
   "metadata": {
    "scrolled": true
   },
   "outputs": [
    {
     "name": "stdout",
     "output_type": "stream",
     "text": [
      "Two useful methods for series are .values and .index. \n",
      "series1.values returns:\n",
      " [ 4  7 -5  3]\n",
      "series.index returns:\n",
      " RangeIndex(start=0, stop=4, step=1)\n",
      "\n",
      "It is possible to create series with custom indexing:series2 = pd.Series([4, 7, -5, 3], index=['a', 'b', 'c', 'd'])\n",
      " a    4\n",
      "b    7\n",
      "c   -5\n",
      "d    3\n",
      "dtype: int64\n",
      "\n",
      "We can then use these custom indexes to call a value. \n",
      "series2['b']: 7\n"
     ]
    }
   ],
   "source": [
    "print(\"Two useful methods for series are .values and .index. \\nseries1.values returns:\\n\", series1.values)\n",
    "print(\"series.index returns:\\n\", series1.index)\n",
    "series2 = pd.Series([4, 7, -5, 3], index=['a', 'b', 'c', 'd'])\n",
    "print(\"\\nIt is possible to create series with custom indexing:\" \n",
    "      \"series2 = pd.Series([4, 7, -5, 3], index=['a', 'b', 'c', 'd'])\\n\", series2)\n",
    "print(\"\\nWe can then use these custom indexes to call a value. \\nseries2['b']:\", series2['b'])"
   ]
  },
  {
   "cell_type": "code",
   "execution_count": 71,
   "metadata": {},
   "outputs": [
    {
     "name": "stdout",
     "output_type": "stream",
     "text": [
      "Series can also be thought of as a fixed-length, ordered dict.\n",
      "\n",
      "So much so that is it possible to create a Series from it, dict1:\n",
      " {'Melbourne': 35000, 'Sydney': 71000, 'Adelaide': 16000, 'Perth': 5000}\n",
      "\n",
      "series3 = pd.Series(dict1) will produce:\n",
      " Melbourne    35000\n",
      "Sydney       71000\n",
      "Adelaide     16000\n",
      "Perth         5000\n",
      "dtype: int64\n",
      "\n",
      "Our states list 'states' produces:\n",
      " ['Perth', 'Melbourne', 'Adelaide', 'Brisbane']\n",
      "\n",
      "We can change the order by modifying the key-index. series4 = pd.Series(dict1, index=states) produces:\n",
      " Perth         5000.0\n",
      "Melbourne    35000.0\n",
      "Adelaide     16000.0\n",
      "Brisbane         NaN\n",
      "dtype: float64\n"
     ]
    }
   ],
   "source": [
    "print(\"Series can also be thought of as a fixed-length, ordered dict.\")\n",
    "dict1 = {'Melbourne': 35000, 'Sydney': 71000, 'Adelaide': 16000, 'Perth': 5000}\n",
    "print(\"\\nSo much so that is it possible to create a Series from it, dict1:\\n\", dict1)\n",
    "series3 = pd.Series(dict1)\n",
    "print(\"\\nseries3 = pd.Series(dict1) will produce:\\n\", series3)\n",
    "states = ['Perth', 'Melbourne', 'Adelaide', 'Brisbane']\n",
    "series4 = pd.Series(dict1, index=states)\n",
    "print(\"\\nOur states list 'states' produces:\\n\", states)\n",
    "print(\"\\nWe can change the order by modifying the key-index. series4 = pd.Series(dict1, index=states) produces:\\n\", series4)"
   ]
  },
  {
   "cell_type": "code",
   "execution_count": 7,
   "metadata": {},
   "outputs": [
    {
     "name": "stdout",
     "output_type": "stream",
     "text": [
      "To check for missing values, pass the object using the pd.isnull(object) method:\n",
      " Perth        False\n",
      "Melbourne    False\n",
      "Adelaide     False\n",
      "Brisbane      True\n",
      "dtype: bool\n",
      "\n",
      "The index name can be set with: series4.index.name = 'state'\n",
      " state\n",
      "Perth         5000.0\n",
      "Melbourne    35000.0\n",
      "Adelaide     16000.0\n",
      "Brisbane         NaN\n",
      "dtype: float64\n"
     ]
    }
   ],
   "source": [
    "print(\"To check for missing values, pass the object using the pd.isnull(object) method:\\n\", pd.isnull(series4))\n",
    "series4.index.name = 'state'\n",
    "print(\"\\nThe index name can be set with: series4.index.name = 'state'\\n\", series4)"
   ]
  },
  {
   "cell_type": "code",
   "execution_count": 8,
   "metadata": {},
   "outputs": [
    {
     "name": "stdout",
     "output_type": "stream",
     "text": [
      "To construct a dataframe, we can form dicts of equal-length lists or arrays:\n",
      "          day  count  raining\n",
      "0     Monday     15     True\n",
      "1    Tuesday     49    False\n",
      "2     Monday     50    False\n",
      "3  Wednesday     17     True\n",
      "4     Sunday     40     True\n",
      "5     Monday     70    False\n",
      "\n",
      "Two useful methods are .head() and .shape.\n",
      "df2.head() returns us the first 5 columns:\n",
      "          day  count  raining\n",
      "0     Monday     15     True\n",
      "1    Tuesday     49    False\n",
      "2     Monday     50    False\n",
      "3  Wednesday     17     True\n",
      "4     Sunday     40     True\n",
      "\n",
      "df2.shape returns the no. of rows and columns:\n",
      " (6, 3)\n"
     ]
    }
   ],
   "source": [
    "data2 = {'day': ['Monday', 'Tuesday', 'Monday', 'Wednesday', 'Sunday', 'Monday'],\n",
    "         'count': [15, 49, 50, 17, 40, 70],\n",
    "         'raining': [True, False, False, True, True, False]}\n",
    "df2 = pd.DataFrame(data2)\n",
    "print(\"To construct a dataframe, we can form dicts of equal-length lists or arrays:\\n\", df2)\n",
    "print(\"\\nTwo useful methods are .head() and .shape.\")\n",
    "print(\"df2.head() returns us the first 5 columns:\\n\", df2.head())\n",
    "print(\"\\ndf2.shape returns the no. of rows and columns:\\n\", df2.shape)"
   ]
  },
  {
   "cell_type": "code",
   "execution_count": 73,
   "metadata": {},
   "outputs": [
    {
     "name": "stdout",
     "output_type": "stream",
     "text": [
      "It is possible to re-order the columns with pd.DataFrame(data2, columns=['count', 'raining', 'day']):\n",
      "    count  raining        day\n",
      "0     15     True     Monday\n",
      "1     49    False    Tuesday\n",
      "2     50    False     Monday\n",
      "3     17     True  Wednesday\n",
      "4     40     True     Sunday\n",
      "5     70    False     Monday\n",
      "\n",
      "We can add columns this way, pd.DataFrame(data2, columns=['count', 'raining', 'day', 'temperature']):\n",
      "    count  raining        day temperature\n",
      "0     15     True     Monday         NaN\n",
      "1     49    False    Tuesday         NaN\n",
      "2     50    False     Monday         NaN\n",
      "3     17     True  Wednesday         NaN\n",
      "4     40     True     Sunday         NaN\n",
      "5     70    False     Monday         NaN \n",
      "The column 'termperature' has been added with missing values.\n",
      "\n",
      "To get the results from just 1 column, specify which index you want, df2['day'] or df2.day produces:\n",
      " one         Monday\n",
      "two        Tuesday\n",
      "three       Monday\n",
      "four     Wednesday\n",
      "five        Sunday\n",
      "six         Monday\n",
      "Name: day, dtype: object\n"
     ]
    }
   ],
   "source": [
    "df2 = pd.DataFrame(data2, \n",
    "                   columns=['count', 'raining', 'day', 'temperature'], \n",
    "                   index=['one', 'two', 'three', 'four', 'five', 'six'])\n",
    "print(\"It is possible to re-order the columns with pd.DataFrame(data2, columns=['count', 'raining', 'day']):\\n\",\n",
    "     pd.DataFrame(data2, columns=['count', 'raining', 'day']))\n",
    "print(\"\\nWe can add columns this way, pd.DataFrame(data2, columns=['count', 'raining', 'day', 'temperature']):\\n\",\n",
    "     pd.DataFrame(data2, columns=['count', 'raining', 'day', 'temperature']),\n",
    "     \"\\nThe column 'termperature' has been added with missing values.\")\n",
    "print(\"\\nTo get the results from just 1 column, specify which index you want, df2['day'] or df2.day produces:\\n\",\n",
    "     df2.day)"
   ]
  },
  {
   "cell_type": "code",
   "execution_count": 10,
   "metadata": {},
   "outputs": [
    {
     "name": "stdout",
     "output_type": "stream",
     "text": [
      "We can access a particular row with the special loc attribute, df2.loc['two'] produces:\n",
      " count               49\n",
      "raining          False\n",
      "day            Tuesday\n",
      "temperature        NaN\n",
      "Name: two, dtype: object\n",
      "\n",
      "When assinging lists or arrays to a column, its length must match the length of the DataFrame.\n",
      " If assigning a Series, it will match the index values and keep the others missing.\n",
      "        count  raining        day  temperature\n",
      "one       15     True     Monday          NaN\n",
      "two       49    False    Tuesday         -1.2\n",
      "three     50    False     Monday          NaN\n",
      "four      17     True  Wednesday         -1.5\n",
      "five      40     True     Sunday         -1.7\n",
      "six       70    False     Monday          NaN\n",
      "\n",
      "We can assign values based on other columns. df2['monday'] = df2.day == 'Monday'.\n",
      " This creates a new column 'monday' which will be true for all values in the day column which are 'Monday'\n",
      "        count  raining        day  temperature  monday\n",
      "one       15     True     Monday          NaN    True\n",
      "two       49    False    Tuesday         -1.2   False\n",
      "three     50    False     Monday          NaN    True\n",
      "four      17     True  Wednesday         -1.5   False\n",
      "five      40     True     Sunday         -1.7   False\n",
      "six       70    False     Monday          NaN    True\n"
     ]
    }
   ],
   "source": [
    "print(\"We can access a particular row with the special loc attribute, df2.loc['two'] produces:\\n\",\n",
    "     df2.loc['two'])\n",
    "val1 = pd.Series([-1.2, -1.5, -1.7], index=['two', 'four', 'five'])\n",
    "df2['temperature'] = val1\n",
    "print(\"\\nWhen assinging lists or arrays to a column, its length must match the length of the DataFrame.\\n\",\n",
    "      \"If assigning a Series, it will match the index values and keep the others missing.\\n\",\n",
    "     df2)\n",
    "df2['monday'] = df2.day == 'Monday'\n",
    "print(\"\\nWe can assign values based on other columns. df2['monday'] = df2.day == 'Monday'.\\n\",\n",
    "      \"This creates a new column 'monday' which will be true for all values in the day column which are 'Monday'\\n\",\n",
    "     df2)"
   ]
  },
  {
   "cell_type": "code",
   "execution_count": 31,
   "metadata": {},
   "outputs": [
    {
     "name": "stdout",
     "output_type": "stream",
     "text": [
      "We set the DataFrame index to start at 1 with: df2.index = np.arange(1, len(df2) +1):\n",
      "    count  raining        day  temperature  monday\n",
      "1     15     True     Monday          NaN    True\n",
      "2     49    False    Tuesday         -1.2   False\n",
      "3     50    False     Monday          NaN    True\n",
      "4     17     True  Wednesday         -1.5   False\n",
      "5     40     True     Sunday         -1.7   False\n",
      "6     70    False     Monday          NaN    True\n"
     ]
    }
   ],
   "source": [
    "df2.index = np.arange(1, len(df2) +1)\n",
    "print(\"We set the DataFrame index to start at 1 with: df2.index = np.arange(1, len(df2) +1):\\n\", df2)"
   ]
  },
  {
   "cell_type": "code",
   "execution_count": 30,
   "metadata": {},
   "outputs": [
    {
     "name": "stdout",
     "output_type": "stream",
     "text": [
      "The drop keyword will modify DataFrames. By default, row labels will be dropped but we can still specify with axis = 'rows' or axis = 'columns'. Eg. data3.drop(['one'], axis = 'columns') will drop the 'one' column and data3.drop(['Ohio'], axis = 'rows') will drop the 'Ohio' row. We can define new DataFrames as data4 =  data3.drop(...).\n",
      "\n",
      "           one  two  three  four\n",
      "Ohio        0    1      2     3\n",
      "Colorado    4    5      6     7\n",
      "Utah        8    9     10    11\n",
      "New York   12   13     14    15\n",
      "\n",
      "By default, DataFrames are not modified in place but can be with data3.drop(..., inplace = True).\n"
     ]
    }
   ],
   "source": [
    "data3 = pd.DataFrame(np.arange(16).reshape((4, 4)),\n",
    "                     index=['Ohio', 'Colorado', 'Utah', 'New York'],\n",
    "                     columns=['one', 'two', 'three', 'four'])\n",
    "print(\"The drop keyword will modify DataFrames. By default, row labels will be dropped but we can still specify with\",\n",
    "      \"axis = 'rows' or axis = 'columns'. Eg. data3.drop(['one'], axis = 'columns') will drop the 'one' column and\",\n",
    "      \"data3.drop(['Ohio'], axis = 'rows') will drop the 'Ohio' row. We can define new DataFrames as data4 = \",\n",
    "      \"data3.drop(...).\\n\\n\", data3)\n",
    "print(\"\\nBy default, DataFrames are not modified in place but can be with data3.drop(..., inplace = True).\")"
   ]
  },
  {
   "cell_type": "code",
   "execution_count": 34,
   "metadata": {},
   "outputs": [
    {
     "name": "stdout",
     "output_type": "stream",
     "text": [
      "We can use boolean phrases to set values, Eg. data3[data3 < 5] = 0:\n",
      "           one  two  three  four\n",
      "Ohio        0    0      0     0\n",
      "Colorado    0    5      6     7\n",
      "Utah        8    9     10    11\n",
      "New York   12   13     14    15\n",
      "\n",
      "It can also be used to return boolean values, Eg. data3 < 5:\n",
      "             one    two  three   four\n",
      "Ohio       True   True   True   True\n",
      "Colorado   True  False  False  False\n",
      "Utah      False  False  False  False\n",
      "New York  False  False  False  False\n"
     ]
    }
   ],
   "source": [
    "data3[data3 < 5] = 0\n",
    "print(\"We can use boolean phrases to set values, Eg. data3[data3 < 5] = 0:\\n\", data3)\n",
    "print(\"\\nIt can also be used to return boolean values, Eg. data3 < 5:\\n\", data3 < 5)"
   ]
  },
  {
   "cell_type": "code",
   "execution_count": 67,
   "metadata": {},
   "outputs": [
    {
     "name": "stdout",
     "output_type": "stream",
     "text": [
      "It is possible to 'add' two DataFrames. However, for any index pairs that are not the same, missing values will be returned.\n",
      "\n",
      "         a    b    c\n",
      "Utah   0.0  1.0  2.0\n",
      "Ohio   3.0  4.0  5.0\n",
      "Texas  6.0  7.0  8.0 \n",
      "\n",
      "          a     b     d\n",
      "Utah    0.0   1.0   2.0\n",
      "Ohio    3.0   4.0   5.0\n",
      "Texas   6.0   7.0   8.0\n",
      "Oregon  9.0  10.0  11.0\n",
      "\n",
      "            a     b   c   d\n",
      "Ohio     6.0   8.0 NaN NaN\n",
      "Oregon   NaN   NaN NaN NaN\n",
      "Texas   12.0  14.0 NaN NaN\n",
      "Utah     0.0   2.0 NaN NaN\n",
      "\n",
      "However, it is possible to specify a special value to be returned when these pairs are missing,df3.add(df4, fill_value = 0)\n",
      "            a     b    c     d\n",
      "Ohio     6.0   8.0  5.0   5.0\n",
      "Oregon   9.0  10.0  NaN  11.0\n",
      "Texas   12.0  14.0  8.0   8.0\n",
      "Utah     0.0   2.0  2.0   2.0\n"
     ]
    }
   ],
   "source": [
    "df3 = pd.DataFrame(np.arange(9.).reshape((3, 3)), columns=list('abc'),\n",
    "                    index=['Utah', 'Ohio', 'Texas'])\n",
    "df4 = pd.DataFrame(np.arange(12.).reshape((4, 3)), columns=list('abd'),\n",
    "                    index=['Utah', 'Ohio', 'Texas', 'Oregon'])\n",
    "print(\"It is possible to 'add' two DataFrames. However, for any index pairs that are not the same, missing values will\",\n",
    "      \"be returned.\\n\")\n",
    "print(df3, \"\\n\")\n",
    "print(df4)\n",
    "print(\"\\n\", df3 + df4)\n",
    "print(\"\\nHowever, it is possible to specify a special value to be returned when these pairs are missing,\" \n",
    "      \"df3.add(df4, fill_value = 0)\\n\", df3.add(df4, fill_value = 0))"
   ]
  },
  {
   "cell_type": "code",
   "execution_count": 74,
   "metadata": {},
   "outputs": [
    {
     "name": "stdout",
     "output_type": "stream",
     "text": [
      "\"df4.index.is_unique\" returns a boolean for the uniqueness of the DataFrames indexes.\n",
      " True\n"
     ]
    }
   ],
   "source": [
    "print(\"\\\"df4.index.is_unique\\\" returns a boolean for the uniqueness of the DataFrames indexes:\\n\", df4.index.is_unique)\n",
    "df5 = pd.DataFrame(np.random.randn(4, 3), index=['a', 'a', 'b', 'b'])"
   ]
  },
  {
   "cell_type": "code",
   "execution_count": null,
   "metadata": {},
   "outputs": [],
   "source": []
  }
 ],
 "metadata": {
  "kernelspec": {
   "display_name": "Python 3",
   "language": "python",
   "name": "python3"
  },
  "language_info": {
   "codemirror_mode": {
    "name": "ipython",
    "version": 3
   },
   "file_extension": ".py",
   "mimetype": "text/x-python",
   "name": "python",
   "nbconvert_exporter": "python",
   "pygments_lexer": "ipython3",
   "version": "3.8.5"
  }
 },
 "nbformat": 4,
 "nbformat_minor": 4
}
