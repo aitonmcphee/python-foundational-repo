{
 "cells": [
  {
   "cell_type": "code",
   "execution_count": null,
   "metadata": {},
   "outputs": [],
   "source": [
    "                                                       # Data Cleaning"
   ]
  },
  {
   "cell_type": "code",
   "execution_count": 1,
   "metadata": {},
   "outputs": [],
   "source": [
    "import numpy as np\n",
    "from numpy import nan as NA\n",
    "import pandas as pd"
   ]
  },
  {
   "cell_type": "code",
   "execution_count": 5,
   "metadata": {},
   "outputs": [
    {
     "name": "stdout",
     "output_type": "stream",
     "text": [
      "A lot of time will be spent cleaning, transformating nad re-arranging data. Missing data is a very commom occurence. \n",
      "Thankfully, there are a few ways to filter out missing data.\n"
     ]
    }
   ],
   "source": [
    "print(\"A lot of time will be spent cleaning, transformating nad re-arranging data.\",\n",
    "      \"Missing data is a very commom occurence.\",\n",
    "      \"\\nThankfully, there are a few ways to filter out missing data.\")"
   ]
  },
  {
   "cell_type": "code",
   "execution_count": 2,
   "metadata": {},
   "outputs": [
    {
     "name": "stdout",
     "output_type": "stream",
     "text": [
      "For a series, filtering out missing data will only return non-missing values and their respective indexes. series1.dropna() is the same as data[data.notnull()]:\n",
      " 0    1.0\n",
      "2    3.5\n",
      "4    7.0\n",
      "dtype: float64\n"
     ]
    }
   ],
   "source": [
    "series1 = pd.Series([1, NA, 3.5, NA, 7])\n",
    "print(\"For a series, filtering out missing data will only return non-missing values and their respective indexes.\",\n",
    "      \"series1.dropna() is the same as data[data.notnull()]:\\n\", series1.dropna())"
   ]
  },
  {
   "cell_type": "code",
   "execution_count": 4,
   "metadata": {},
   "outputs": [
    {
     "name": "stdout",
     "output_type": "stream",
     "text": [
      "Missing values in DataFrames are a little more tricky. We can drop missing values with .dropna().\n",
      " data:\n",
      "      0    1    2\n",
      "0  1.0  6.5  3.0\n",
      "1  1.0  NaN  NaN\n",
      "2  NaN  NaN  NaN\n",
      "3  NaN  6.5  3.0\n",
      "\n",
      "df.dropna():\n",
      "      0    1    2\n",
      "0  1.0  6.5  3.0\n",
      "\n",
      "df.dropna(how='all') drops all rows that are missing and df.dropna(axis=1, how='all') drops the columns.\n"
     ]
    }
   ],
   "source": [
    "df = pd.DataFrame([[1., 6.5, 3.], [1., NA, NA],\n",
    "                      [NA, NA, NA], [NA, 6.5, 3.]])\n",
    "dfcleaned = df.dropna()\n",
    "print(\"Missing values in DataFrames are a little more tricky. We can drop missing values with .dropna().\\n\",\n",
    "       \"data:\\n\", df)\n",
    "print(\"\\ndf.dropna():\\n\", dfcleaned)\n",
    "print(\"\\ndf.dropna(how='all') drops all rows that are missing and df.dropna(axis=1, how='all') drops the columns.\")"
   ]
  },
  {
   "cell_type": "code",
   "execution_count": 5,
   "metadata": {},
   "outputs": [
    {
     "name": "stdout",
     "output_type": "stream",
     "text": [
      "We can fill empty data in a number of ways:\n",
      "           0         1         2\n",
      "0 -1.104044       NaN       NaN\n",
      "1 -0.298436       NaN       NaN\n",
      "2  0.077988       NaN -0.621923\n",
      "3  1.279364       NaN -1.480129\n",
      "4 -0.472167  0.672329 -0.944504\n",
      "5  0.112614 -0.182097 -0.767533\n",
      "6  0.876511 -0.950953 -1.548921\n",
      "\n",
      "df2.fillna(0) will simply replace missing values with '0':\n",
      "           0         1         2\n",
      "0 -1.104044  0.000000  0.000000\n",
      "1 -0.298436  0.000000  0.000000\n",
      "2  0.077988  0.000000 -0.621923\n",
      "3  1.279364  0.000000 -1.480129\n",
      "4 -0.472167  0.672329 -0.944504\n",
      "5  0.112614 -0.182097 -0.767533\n",
      "6  0.876511 -0.950953 -1.548921\n",
      "\n",
      "df2.fillna({1: 0.5, 2: 0}) will replace values in those columns with their pair value:\n",
      "           0         1         2\n",
      "0 -1.104044  0.500000  0.000000\n",
      "1 -0.298436  0.500000  0.000000\n",
      "2  0.077988  0.500000 -0.621923\n",
      "3  1.279364  0.500000 -1.480129\n",
      "4 -0.472167  0.672329 -0.944504\n",
      "5  0.112614 -0.182097 -0.767533\n",
      "6  0.876511 -0.950953 -1.548921\n",
      "\n",
      "Changes can be made in place with _ = df2.fillna(0, inplace = True).\n",
      "\n",
      "To replace missing values with the mean of that column, write: df2.fillna(df2.mean(), inplace = True).\n"
     ]
    }
   ],
   "source": [
    "df2 = pd.DataFrame(np.random.randn(7, 3))\n",
    "df2.iloc[:4, 1] = NA\n",
    "df2.iloc[:2, 2] = NA\n",
    "print(\"We can fill empty data in a number of ways:\\n\", df2)\n",
    "print(\"\\ndf2.fillna(0) will simply replace missing values with '0':\\n\", df2.fillna(0))\n",
    "print(\"\\ndf2.fillna({1: 0.5, 2: 0}) will replace values in those columns with their pair value:\\n\", \n",
    "      df2.fillna({1: 0.5, 2: 0}))\n",
    "print(\"\\nChanges can be made in place with _ = df2.fillna(0, inplace = True).\\n\")\n",
    "print(\"To replace missing values with the mean of that column, write: df2.fillna(df2.mean(), inplace = True).\")"
   ]
  },
  {
   "cell_type": "code",
   "execution_count": 13,
   "metadata": {},
   "outputs": [
    {
     "name": "stdout",
     "output_type": "stream",
     "text": [
      "0       1.0\n",
      "1    -999.0\n",
      "2       2.0\n",
      "3    -999.0\n",
      "4   -1000.0\n",
      "5       3.0\n",
      "dtype: float64\n",
      "\n",
      "We can pass dicts to replace missing values: series2.replace({-999: np.nan, -1000: 0}):\n",
      " 0    1.0\n",
      "1    NaN\n",
      "2    2.0\n",
      "3    NaN\n",
      "4    0.0\n",
      "5    3.0\n",
      "dtype: float64\n"
     ]
    }
   ],
   "source": [
    "series2 = pd.Series([1., -999., 2., -999., -1000., 3.])\n",
    "print(series2)\n",
    "print(\"\\nWe can pass dicts to replace missing values: series2.replace({-999: np.nan, -1000: 0}):\\n\",\n",
    "      series2.replace({-999: np.nan, -1000: 0}))"
   ]
  },
  {
   "cell_type": "code",
   "execution_count": null,
   "metadata": {},
   "outputs": [],
   "source": []
  }
 ],
 "metadata": {
  "kernelspec": {
   "display_name": "Python 3",
   "language": "python",
   "name": "python3"
  },
  "language_info": {
   "codemirror_mode": {
    "name": "ipython",
    "version": 3
   },
   "file_extension": ".py",
   "mimetype": "text/x-python",
   "name": "python",
   "nbconvert_exporter": "python",
   "pygments_lexer": "ipython3",
   "version": "3.8.5"
  }
 },
 "nbformat": 4,
 "nbformat_minor": 4
}
